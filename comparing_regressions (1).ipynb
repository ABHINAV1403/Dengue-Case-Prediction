{
 "cells": [
  {
   "cell_type": "code",
   "execution_count": 19,
   "id": "76a30a12-bcaf-46bd-89b0-abde26cd6cbe",
   "metadata": {
    "id": "76a30a12-bcaf-46bd-89b0-abde26cd6cbe"
   },
   "outputs": [],
   "source": [
    "import numpy as np\n",
    "import pandas as pd\n",
    "from sklearn.model_selection import train_test_split\n",
    "from sklearn.preprocessing import LabelEncoder, StandardScaler, OneHotEncoder\n",
    "from sklearn.metrics import mean_squared_error, r2_score, accuracy_score, mean_absolute_error\n",
    "from sklearn.linear_model import LogisticRegression\n",
    "from sklearn.compose import ColumnTransformer\n",
    "from sklearn.pipeline import Pipeline\n",
    "from sklearn.ensemble import RandomForestClassifier, RandomForestRegressor\n",
    "import matplotlib.pyplot as plt\n",
    "import seaborn as sns\n",
    "from scipy.stats import skew\n",
    "\n",
    "\n",
    "\n",
    "dataset = pd.read_csv(\"/content/dengue_cases_created.csv\")\n"
   ]
  },
  {
   "cell_type": "code",
   "execution_count": 20,
   "id": "04f6638d-22e8-47f1-b54b-d74c7d2faaab",
   "metadata": {
    "id": "04f6638d-22e8-47f1-b54b-d74c7d2faaab"
   },
   "outputs": [],
   "source": [
    "X = dataset.iloc[:, :-1].values\n",
    "Y = dataset.iloc[:, -1].values\n"
   ]
  },
  {
   "cell_type": "code",
   "execution_count": 21,
   "id": "7c74d2a4-b1ab-4b54-b95a-3f4e15f965e1",
   "metadata": {
    "id": "7c74d2a4-b1ab-4b54-b95a-3f4e15f965e1"
   },
   "outputs": [],
   "source": [
    "ct = ColumnTransformer(\n",
    "    transformers=[('encoder', OneHotEncoder(sparse_output=False), [0, 5, 6, 7, 8])],\n",
    "    remainder='passthrough'\n",
    ")"
   ]
  },
  {
   "cell_type": "code",
   "execution_count": 22,
   "id": "100905e8-02c3-4bdd-87cf-161a23eca49b",
   "metadata": {
    "id": "100905e8-02c3-4bdd-87cf-161a23eca49b"
   },
   "outputs": [],
   "source": [
    "X = ct.fit_transform(X)\n",
    "X = X.astype(float)"
   ]
  },
  {
   "cell_type": "code",
   "execution_count": 23,
   "id": "1cc97072-faac-412a-9b06-1cdb0ddcac16",
   "metadata": {
    "colab": {
     "base_uri": "https://localhost:8080/"
    },
    "id": "1cc97072-faac-412a-9b06-1cdb0ddcac16",
    "outputId": "1be7fd58-4c0d-4873-b01f-bd14f2722add"
   },
   "outputs": [
    {
     "name": "stdout",
     "output_type": "stream",
     "text": [
      "[[0. 1. 0. ... 1. 0. 1.]\n",
      " [1. 0. 0. ... 1. 1. 1.]\n",
      " [1. 0. 0. ... 1. 0. 1.]\n",
      " ...\n",
      " [0. 1. 0. ... 1. 1. 0.]\n",
      " [0. 1. 0. ... 0. 1. 0.]\n",
      " [1. 0. 0. ... 1. 1. 0.]]\n",
      "[1 1 0 ... 1 1 1]\n",
      "[[0. 1. 0. ... 1. 1. 1.]\n",
      " [0. 1. 0. ... 0. 0. 1.]\n",
      " [0. 1. 0. ... 1. 0. 0.]\n",
      " ...\n",
      " [1. 0. 0. ... 0. 0. 0.]\n",
      " [0. 1. 0. ... 0. 1. 0.]\n",
      " [0. 1. 0. ... 1. 1. 0.]]\n",
      "[1 1 0 ... 1 1 1]\n"
     ]
    }
   ],
   "source": [
    "from sklearn.model_selection import train_test_split\n",
    "X_train, X_test, Y_train, Y_test = train_test_split(X, Y, test_size=0.2, random_state=1)\n",
    "print(X_train)\n",
    "print(Y_train)\n",
    "print(X_test)\n",
    "print(Y_test)\n"
   ]
  },
  {
   "cell_type": "code",
   "execution_count": 24,
   "id": "36b4a185-2472-4210-b3ea-49579dcb3bc7",
   "metadata": {
    "id": "36b4a185-2472-4210-b3ea-49579dcb3bc7"
   },
   "outputs": [],
   "source": [
    "class LinearRegressionScratch:\n",
    "    def __init__(self):\n",
    "        self.coef_ = None\n",
    "\n",
    "    def fit(self, X, Y):\n",
    "        X_b = np.c_[np.ones((X.shape[0], 1)), X]  # Add intercept term\n",
    "        self.coef_ = np.linalg.inv(X_b.T.dot(X_b)).dot(X_b.T).dot(Y)\n",
    "\n",
    "    def predict(self, X):\n",
    "        X_b = np.c_[np.ones((X.shape[0], 1)), X]  # Add intercept term\n",
    "        return X_b.dot(self.coef_)\n",
    "\n",
    "# Train and evaluate Linear Regression\n",
    "lr_model = LinearRegressionScratch()\n",
    "lr_model.fit(X_train, Y_train)\n",
    "lr_predictions = lr_model.predict(X_test)"
   ]
  },
  {
   "cell_type": "code",
   "execution_count": 25,
   "id": "4979d5f1-c13c-4df4-812a-dbc0893fda6d",
   "metadata": {
    "id": "4979d5f1-c13c-4df4-812a-dbc0893fda6d"
   },
   "outputs": [],
   "source": [
    "class LogisticRegressionScratch:\n",
    "    def __init__(self, learning_rate=0.01, num_iterations=1000):\n",
    "        self.learning_rate = learning_rate\n",
    "        self.num_iterations = num_iterations\n",
    "        self.coef_ = None\n",
    "\n",
    "    def sigmoid(self, z):\n",
    "        return 1 / (1 + np.exp(-z))\n",
    "\n",
    "    def fit(self, X, Y):\n",
    "        X_b = np.c_[np.ones((X.shape[0], 1)), X]  # Add intercept term\n",
    "        m = X_b.shape[0]\n",
    "        self.coef_ = np.zeros(X_b.shape[1])\n",
    "\n",
    "        for _ in range(self.num_iterations):\n",
    "            predictions = self.sigmoid(X_b.dot(self.coef_))\n",
    "            gradient = (1 / m) * X_b.T.dot(predictions - Y)\n",
    "            self.coef_ -= self.learning_rate * gradient\n",
    "\n",
    "    def predict(self, X):\n",
    "        X_b = np.c_[np.ones((X.shape[0], 1)), X]  # Add intercept term\n",
    "        probabilities = self.sigmoid(X_b.dot(self.coef_))\n",
    "        return (probabilities >= 0.5).astype(int)\n",
    "\n",
    "# Train and evaluate Logistic Regression\n",
    "log_reg_model = LogisticRegressionScratch()\n",
    "log_reg_model.fit(X_train, Y_train)\n",
    "log_reg_predictions = log_reg_model.predict(X_test)"
   ]
  },
  {
   "cell_type": "code",
   "execution_count": 26,
   "id": "7b6b9b33-3ef8-4cc3-b526-7b5d99eb43d9",
   "metadata": {
    "id": "7b6b9b33-3ef8-4cc3-b526-7b5d99eb43d9"
   },
   "outputs": [],
   "source": [
    "rf_model = RandomForestRegressor(n_estimators=100, random_state=42)\n",
    "rf_model.fit(X_train, Y_train)\n",
    "rf_predictions = rf_model.predict(X_test)  # Store the predictions"
   ]
  },
  {
   "cell_type": "code",
   "execution_count": 27,
   "id": "3a6f9db2-1f2c-4739-a2ea-e2c9cc9853b6",
   "metadata": {
    "colab": {
     "base_uri": "https://localhost:8080/"
    },
    "id": "3a6f9db2-1f2c-4739-a2ea-e2c9cc9853b6",
    "outputId": "cfe8215d-605e-4abd-c9bd-f4fe94c9c0b4"
   },
   "outputs": [
    {
     "name": "stdout",
     "output_type": "stream",
     "text": [
      "Linear Regression:\n",
      "MSE: 2609.091800610097\n",
      "R²: -10440.128255936446\n",
      "MAE: 42.56594153159556\n",
      "\n",
      "Logistic Regression:\n",
      "Accuracy: 0.4893230349840981\n",
      "\n",
      "Random Forest Regression:\n",
      "MSE: 0.25601707323388617\n",
      "R²: -0.02453547120090338\n",
      "MAE: 0.45881696090521623\n",
      "\n"
     ]
    }
   ],
   "source": [
    "\n",
    "# Evaluation Metrics for Linear Regression\n",
    "lr_mse = mean_squared_error(Y_test, lr_predictions)\n",
    "lr_r2 = r2_score(Y_test, lr_predictions)\n",
    "lr_mae = mean_absolute_error(Y_test, lr_predictions)\n",
    "\n",
    "# Evaluation Metrics for Logistic Regression\n",
    "log_reg_accuracy = accuracy_score(Y_test, log_reg_predictions)\n",
    "\n",
    "# Evaluation Metrics for Random Forest\n",
    "rf_mse = mean_squared_error(Y_test, rf_predictions)\n",
    "rf_r2 = r2_score(Y_test, rf_predictions)\n",
    "rf_mae = mean_absolute_error(Y_test, rf_predictions)\n",
    "\n",
    "# Print results for comparison\n",
    "print(\"Linear Regression:\")\n",
    "print(f\"MSE: {lr_mse}\")\n",
    "print(f\"R²: {lr_r2}\")\n",
    "print(f\"MAE: {lr_mae}\\n\")\n",
    "\n",
    "print(\"Logistic Regression:\")\n",
    "print(f\"Accuracy: {log_reg_accuracy}\\n\")\n",
    "\n",
    "print(\"Random Forest Regression:\")\n",
    "print(f\"MSE: {rf_mse}\")\n",
    "print(f\"R²: {rf_r2}\")\n",
    "print(f\"MAE: {rf_mae}\\n\")\n"
   ]
  }
 ],
 "metadata": {
  "colab": {
   "provenance": []
  },
  "kernelspec": {
   "display_name": "Python 3 (ipykernel)",
   "language": "python",
   "name": "python3"
  },
  "language_info": {
   "codemirror_mode": {
    "name": "ipython",
    "version": 3
   },
   "file_extension": ".py",
   "mimetype": "text/x-python",
   "name": "python",
   "nbconvert_exporter": "python",
   "pygments_lexer": "ipython3",
   "version": "3.12.4"
  }
 },
 "nbformat": 4,
 "nbformat_minor": 5
}
